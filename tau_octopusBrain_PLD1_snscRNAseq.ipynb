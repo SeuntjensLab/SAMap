{
 "cells": [
  {
   "cell_type": "markdown",
   "id": "b18c70b4",
   "metadata": {},
   "source": [
    "### Calculate tissue specificity based on a gene expression matrix with tspex"
   ]
  },
  {
   "cell_type": "code",
   "execution_count": 31,
   "id": "79dcbf75-8cf0-47de-be88-c6b24c344dec",
   "metadata": {},
   "outputs": [],
   "source": [
    "import scanpy as sc\n",
    "import tspex\n",
    "import pandas as pd\n",
    "import seaborn as sns\n",
    "import numpy as np\n",
    "import matplotlib.pyplot as plt"
   ]
  },
  {
   "cell_type": "code",
   "execution_count": 100,
   "id": "8e833446-5f42-4206-85a4-e1d48a1adbf5",
   "metadata": {},
   "outputs": [],
   "source": [
    "# file paths\n",
    "\n",
    "path_mtx_celltype = \"/staging/leuven/stg_00056/octopus/annotation/tau/matrix_avExp_cellType_snscRNA_brain.tsv\"\n",
    "path_ov_tfs = \"/staging/leuven/stg_00056/octopus/annotation/tau/Ov_TF_detected.txt\"\n",
    "path_ncells = \"/staging/leuven/stg_00056/octopus/annotation/tau/ncells_cellType_snscRNA_brain.tsv\"\n",
    "path_out_tau = \"/staging/leuven/stg_00056/octopus/annotation/tau/tau.tsv\"\n",
    "path_ov_pcdhs = \"/staging/leuven/stg_00056/octopus/annotation/tau/Ov_PCDH_detected.txt\"\n",
    "path_ov_genes = \"/staging/leuven/stg_00056/octopus/annotation/tau/Ov_all_genes_detected.txt\""
   ]
  },
  {
   "cell_type": "code",
   "execution_count": 55,
   "id": "41d5dc8b-6281-41eb-b0a7-9ea621f95920",
   "metadata": {},
   "outputs": [],
   "source": [
    "# load matrix file\n",
    "mtx_avEx_Brain_celltypes =  pd.read_csv(path_mtx_celltype, sep='\\t', index_col='gene_id')"
   ]
  },
  {
   "cell_type": "code",
   "execution_count": 56,
   "id": "df45885b-86d4-4147-984b-15dbd3370a9c",
   "metadata": {},
   "outputs": [],
   "source": [
    "# read TFs\n",
    "tfs = np.genfromtxt(path_ov_tfs,dtype='str')"
   ]
  },
  {
   "cell_type": "code",
   "execution_count": 57,
   "id": "73eaf1fa-4729-4d04-bb8b-4b0511d1fb75",
   "metadata": {},
   "outputs": [],
   "source": [
    "# read number of cells per gene\n",
    "df_ncells =  pd.read_csv(path_ncells, sep='\\t',index_col='gene_id')"
   ]
  },
  {
   "cell_type": "code",
   "execution_count": 82,
   "id": "d1d1a7d7",
   "metadata": {},
   "outputs": [],
   "source": [
    "# read PCDHs\n",
    "pcdhs = np.genfromtxt(path_ov_pcdhs,dtype='str')"
   ]
  },
  {
   "cell_type": "code",
   "execution_count": 101,
   "id": "865eaff2",
   "metadata": {},
   "outputs": [],
   "source": [
    "# read all genes\n",
    "genes = np.genfromtxt(path_ov_genes,dtype='str')"
   ]
  },
  {
   "cell_type": "code",
   "execution_count": 58,
   "id": "01aa0980-53d0-4289-93b2-51e6fe941d9c",
   "metadata": {},
   "outputs": [
    {
     "data": {
      "text/plain": [
       "(1761,)"
      ]
     },
     "execution_count": 58,
     "metadata": {},
     "output_type": "execute_result"
    }
   ],
   "source": [
    "tfs.shape"
   ]
  },
  {
   "cell_type": "code",
   "execution_count": 59,
   "id": "4ed465bf-d663-40ba-8901-68c038d4315c",
   "metadata": {},
   "outputs": [
    {
     "data": {
      "text/plain": [
       "(17947, 89)"
      ]
     },
     "execution_count": 59,
     "metadata": {},
     "output_type": "execute_result"
    }
   ],
   "source": [
    "mtx_avEx_mouseBrain_celltypes.shape"
   ]
  },
  {
   "cell_type": "code",
   "execution_count": 60,
   "id": "848f1506",
   "metadata": {},
   "outputs": [
    {
     "data": {
      "text/plain": [
       "(17947, 1)"
      ]
     },
     "execution_count": 60,
     "metadata": {},
     "output_type": "execute_result"
    }
   ],
   "source": [
    "df_ncells.shape"
   ]
  },
  {
   "cell_type": "code",
   "execution_count": 61,
   "id": "bc3a13ff",
   "metadata": {},
   "outputs": [
    {
     "data": {
      "text/html": [
       "<div>\n",
       "<style scoped>\n",
       "    .dataframe tbody tr th:only-of-type {\n",
       "        vertical-align: middle;\n",
       "    }\n",
       "\n",
       "    .dataframe tbody tr th {\n",
       "        vertical-align: top;\n",
       "    }\n",
       "\n",
       "    .dataframe thead th {\n",
       "        text-align: right;\n",
       "    }\n",
       "</style>\n",
       "<table border=\"1\" class=\"dataframe\">\n",
       "  <thead>\n",
       "    <tr style=\"text-align: right;\">\n",
       "      <th></th>\n",
       "      <th>ncells</th>\n",
       "    </tr>\n",
       "    <tr>\n",
       "      <th>gene_id</th>\n",
       "      <th></th>\n",
       "    </tr>\n",
       "  </thead>\n",
       "  <tbody>\n",
       "    <tr>\n",
       "      <th>mt-ATP6</th>\n",
       "      <td>16733</td>\n",
       "    </tr>\n",
       "    <tr>\n",
       "      <th>LOC115208758</th>\n",
       "      <td>133</td>\n",
       "    </tr>\n",
       "    <tr>\n",
       "      <th>LOC115208759</th>\n",
       "      <td>74</td>\n",
       "    </tr>\n",
       "    <tr>\n",
       "      <th>LOC115208771</th>\n",
       "      <td>4513</td>\n",
       "    </tr>\n",
       "    <tr>\n",
       "      <th>LOC115208791</th>\n",
       "      <td>22</td>\n",
       "    </tr>\n",
       "  </tbody>\n",
       "</table>\n",
       "</div>"
      ],
      "text/plain": [
       "              ncells\n",
       "gene_id             \n",
       "mt-ATP6        16733\n",
       "LOC115208758     133\n",
       "LOC115208759      74\n",
       "LOC115208771    4513\n",
       "LOC115208791      22"
      ]
     },
     "execution_count": 61,
     "metadata": {},
     "output_type": "execute_result"
    }
   ],
   "source": [
    "df_ncells.head()"
   ]
  },
  {
   "cell_type": "code",
   "execution_count": 62,
   "id": "c49e2a62-8796-45cf-af48-3f25bc2261c0",
   "metadata": {},
   "outputs": [
    {
     "data": {
      "text/html": [
       "<div>\n",
       "<style scoped>\n",
       "    .dataframe tbody tr th:only-of-type {\n",
       "        vertical-align: middle;\n",
       "    }\n",
       "\n",
       "    .dataframe tbody tr th {\n",
       "        vertical-align: top;\n",
       "    }\n",
       "\n",
       "    .dataframe thead th {\n",
       "        text-align: right;\n",
       "    }\n",
       "</style>\n",
       "<table border=\"1\" class=\"dataframe\">\n",
       "  <thead>\n",
       "    <tr style=\"text-align: right;\">\n",
       "      <th></th>\n",
       "      <th>0</th>\n",
       "      <th>1</th>\n",
       "      <th>2</th>\n",
       "      <th>3</th>\n",
       "      <th>4</th>\n",
       "      <th>5</th>\n",
       "      <th>6</th>\n",
       "      <th>7</th>\n",
       "      <th>8</th>\n",
       "      <th>9</th>\n",
       "      <th>...</th>\n",
       "      <th>78</th>\n",
       "      <th>79</th>\n",
       "      <th>80</th>\n",
       "      <th>81</th>\n",
       "      <th>82</th>\n",
       "      <th>83</th>\n",
       "      <th>84</th>\n",
       "      <th>85</th>\n",
       "      <th>86</th>\n",
       "      <th>gene_id.1</th>\n",
       "    </tr>\n",
       "    <tr>\n",
       "      <th>gene_id</th>\n",
       "      <th></th>\n",
       "      <th></th>\n",
       "      <th></th>\n",
       "      <th></th>\n",
       "      <th></th>\n",
       "      <th></th>\n",
       "      <th></th>\n",
       "      <th></th>\n",
       "      <th></th>\n",
       "      <th></th>\n",
       "      <th></th>\n",
       "      <th></th>\n",
       "      <th></th>\n",
       "      <th></th>\n",
       "      <th></th>\n",
       "      <th></th>\n",
       "      <th></th>\n",
       "      <th></th>\n",
       "      <th></th>\n",
       "      <th></th>\n",
       "      <th></th>\n",
       "    </tr>\n",
       "  </thead>\n",
       "  <tbody>\n",
       "    <tr>\n",
       "      <th>mt-ATP6</th>\n",
       "      <td>8.997630</td>\n",
       "      <td>9.310667</td>\n",
       "      <td>33.226891</td>\n",
       "      <td>13.639456</td>\n",
       "      <td>8.080074</td>\n",
       "      <td>18.601923</td>\n",
       "      <td>15.823158</td>\n",
       "      <td>13.256466</td>\n",
       "      <td>16.095652</td>\n",
       "      <td>18.966667</td>\n",
       "      <td>...</td>\n",
       "      <td>18.782609</td>\n",
       "      <td>9.930233</td>\n",
       "      <td>47.513514</td>\n",
       "      <td>9.827586</td>\n",
       "      <td>11.04</td>\n",
       "      <td>13.708333</td>\n",
       "      <td>11.470588</td>\n",
       "      <td>37.307692</td>\n",
       "      <td>9.307692</td>\n",
       "      <td>mt-ATP6</td>\n",
       "    </tr>\n",
       "    <tr>\n",
       "      <th>LOC115208758</th>\n",
       "      <td>0.005924</td>\n",
       "      <td>0.004000</td>\n",
       "      <td>0.015126</td>\n",
       "      <td>0.006803</td>\n",
       "      <td>0.005587</td>\n",
       "      <td>0.013462</td>\n",
       "      <td>0.008421</td>\n",
       "      <td>0.008621</td>\n",
       "      <td>0.002174</td>\n",
       "      <td>0.006667</td>\n",
       "      <td>...</td>\n",
       "      <td>0.000000</td>\n",
       "      <td>0.000000</td>\n",
       "      <td>0.000000</td>\n",
       "      <td>0.000000</td>\n",
       "      <td>0.00</td>\n",
       "      <td>0.000000</td>\n",
       "      <td>0.000000</td>\n",
       "      <td>0.000000</td>\n",
       "      <td>0.000000</td>\n",
       "      <td>LOC115208758</td>\n",
       "    </tr>\n",
       "    <tr>\n",
       "      <th>LOC115208759</th>\n",
       "      <td>0.001185</td>\n",
       "      <td>0.002667</td>\n",
       "      <td>0.005042</td>\n",
       "      <td>0.005102</td>\n",
       "      <td>0.001862</td>\n",
       "      <td>0.001923</td>\n",
       "      <td>0.008421</td>\n",
       "      <td>0.004310</td>\n",
       "      <td>0.002174</td>\n",
       "      <td>0.000000</td>\n",
       "      <td>...</td>\n",
       "      <td>0.000000</td>\n",
       "      <td>0.000000</td>\n",
       "      <td>0.000000</td>\n",
       "      <td>0.000000</td>\n",
       "      <td>0.00</td>\n",
       "      <td>0.000000</td>\n",
       "      <td>0.000000</td>\n",
       "      <td>0.000000</td>\n",
       "      <td>0.000000</td>\n",
       "      <td>LOC115208759</td>\n",
       "    </tr>\n",
       "    <tr>\n",
       "      <th>LOC115208771</th>\n",
       "      <td>0.213270</td>\n",
       "      <td>0.334667</td>\n",
       "      <td>0.287395</td>\n",
       "      <td>0.520408</td>\n",
       "      <td>0.191806</td>\n",
       "      <td>0.328846</td>\n",
       "      <td>0.456842</td>\n",
       "      <td>0.400862</td>\n",
       "      <td>0.356522</td>\n",
       "      <td>0.351111</td>\n",
       "      <td>...</td>\n",
       "      <td>0.326087</td>\n",
       "      <td>0.488372</td>\n",
       "      <td>0.135135</td>\n",
       "      <td>0.379310</td>\n",
       "      <td>0.36</td>\n",
       "      <td>0.375000</td>\n",
       "      <td>0.176471</td>\n",
       "      <td>0.615385</td>\n",
       "      <td>0.538462</td>\n",
       "      <td>LOC115208771</td>\n",
       "    </tr>\n",
       "    <tr>\n",
       "      <th>LOC115208791</th>\n",
       "      <td>0.005924</td>\n",
       "      <td>0.001333</td>\n",
       "      <td>0.001681</td>\n",
       "      <td>0.001701</td>\n",
       "      <td>0.000000</td>\n",
       "      <td>0.001923</td>\n",
       "      <td>0.000000</td>\n",
       "      <td>0.000000</td>\n",
       "      <td>0.002174</td>\n",
       "      <td>0.000000</td>\n",
       "      <td>...</td>\n",
       "      <td>0.000000</td>\n",
       "      <td>0.000000</td>\n",
       "      <td>0.000000</td>\n",
       "      <td>0.000000</td>\n",
       "      <td>0.00</td>\n",
       "      <td>0.000000</td>\n",
       "      <td>0.000000</td>\n",
       "      <td>0.000000</td>\n",
       "      <td>0.000000</td>\n",
       "      <td>LOC115208791</td>\n",
       "    </tr>\n",
       "  </tbody>\n",
       "</table>\n",
       "<p>5 rows × 88 columns</p>\n",
       "</div>"
      ],
      "text/plain": [
       "                     0         1          2          3         4          5  \\\n",
       "gene_id                                                                       \n",
       "mt-ATP6       8.997630  9.310667  33.226891  13.639456  8.080074  18.601923   \n",
       "LOC115208758  0.005924  0.004000   0.015126   0.006803  0.005587   0.013462   \n",
       "LOC115208759  0.001185  0.002667   0.005042   0.005102  0.001862   0.001923   \n",
       "LOC115208771  0.213270  0.334667   0.287395   0.520408  0.191806   0.328846   \n",
       "LOC115208791  0.005924  0.001333   0.001681   0.001701  0.000000   0.001923   \n",
       "\n",
       "                      6          7          8          9  ...         78  \\\n",
       "gene_id                                                   ...              \n",
       "mt-ATP6       15.823158  13.256466  16.095652  18.966667  ...  18.782609   \n",
       "LOC115208758   0.008421   0.008621   0.002174   0.006667  ...   0.000000   \n",
       "LOC115208759   0.008421   0.004310   0.002174   0.000000  ...   0.000000   \n",
       "LOC115208771   0.456842   0.400862   0.356522   0.351111  ...   0.326087   \n",
       "LOC115208791   0.000000   0.000000   0.002174   0.000000  ...   0.000000   \n",
       "\n",
       "                    79         80        81     82         83         84  \\\n",
       "gene_id                                                                    \n",
       "mt-ATP6       9.930233  47.513514  9.827586  11.04  13.708333  11.470588   \n",
       "LOC115208758  0.000000   0.000000  0.000000   0.00   0.000000   0.000000   \n",
       "LOC115208759  0.000000   0.000000  0.000000   0.00   0.000000   0.000000   \n",
       "LOC115208771  0.488372   0.135135  0.379310   0.36   0.375000   0.176471   \n",
       "LOC115208791  0.000000   0.000000  0.000000   0.00   0.000000   0.000000   \n",
       "\n",
       "                     85        86     gene_id.1  \n",
       "gene_id                                          \n",
       "mt-ATP6       37.307692  9.307692       mt-ATP6  \n",
       "LOC115208758   0.000000  0.000000  LOC115208758  \n",
       "LOC115208759   0.000000  0.000000  LOC115208759  \n",
       "LOC115208771   0.615385  0.538462  LOC115208771  \n",
       "LOC115208791   0.000000  0.000000  LOC115208791  \n",
       "\n",
       "[5 rows x 88 columns]"
      ]
     },
     "execution_count": 62,
     "metadata": {},
     "output_type": "execute_result"
    }
   ],
   "source": [
    "mtx_avEx_Brain_celltypes.head()"
   ]
  },
  {
   "cell_type": "code",
   "execution_count": 63,
   "id": "01ff5694-23f9-42c7-a856-56bb082ee982",
   "metadata": {},
   "outputs": [],
   "source": [
    "# subset matrix for TF\n",
    "all_genes = mtx_avEx_Brain_celltypes.index\n",
    "all_tfs = list(set(all_genes) & set(tfs))\n",
    "tf_mtx_avEx_Brain_celltypes = mtx_avEx_Brain_celltypes.loc[all_tfs]"
   ]
  },
  {
   "cell_type": "code",
   "execution_count": 83,
   "id": "f8954024",
   "metadata": {},
   "outputs": [],
   "source": [
    "# subset matrix for PCDH\n",
    "all_genes = mtx_avEx_Brain_celltypes.index\n",
    "all_pcdhs = list(set(all_genes) & set(pcdhs))\n",
    "tf_mtx_avEx_Brain_celltypes = mtx_avEx_Brain_celltypes.loc[all_pcdhs]"
   ]
  },
  {
   "cell_type": "code",
   "execution_count": 64,
   "id": "c0337c1a",
   "metadata": {},
   "outputs": [
    {
     "data": {
      "text/html": [
       "<div>\n",
       "<style scoped>\n",
       "    .dataframe tbody tr th:only-of-type {\n",
       "        vertical-align: middle;\n",
       "    }\n",
       "\n",
       "    .dataframe tbody tr th {\n",
       "        vertical-align: top;\n",
       "    }\n",
       "\n",
       "    .dataframe thead th {\n",
       "        text-align: right;\n",
       "    }\n",
       "</style>\n",
       "<table border=\"1\" class=\"dataframe\">\n",
       "  <thead>\n",
       "    <tr style=\"text-align: right;\">\n",
       "      <th></th>\n",
       "      <th>0</th>\n",
       "      <th>1</th>\n",
       "      <th>2</th>\n",
       "      <th>3</th>\n",
       "      <th>4</th>\n",
       "      <th>5</th>\n",
       "      <th>6</th>\n",
       "      <th>7</th>\n",
       "      <th>8</th>\n",
       "      <th>9</th>\n",
       "      <th>...</th>\n",
       "      <th>78</th>\n",
       "      <th>79</th>\n",
       "      <th>80</th>\n",
       "      <th>81</th>\n",
       "      <th>82</th>\n",
       "      <th>83</th>\n",
       "      <th>84</th>\n",
       "      <th>85</th>\n",
       "      <th>86</th>\n",
       "      <th>gene_id.1</th>\n",
       "    </tr>\n",
       "    <tr>\n",
       "      <th>gene_id</th>\n",
       "      <th></th>\n",
       "      <th></th>\n",
       "      <th></th>\n",
       "      <th></th>\n",
       "      <th></th>\n",
       "      <th></th>\n",
       "      <th></th>\n",
       "      <th></th>\n",
       "      <th></th>\n",
       "      <th></th>\n",
       "      <th></th>\n",
       "      <th></th>\n",
       "      <th></th>\n",
       "      <th></th>\n",
       "      <th></th>\n",
       "      <th></th>\n",
       "      <th></th>\n",
       "      <th></th>\n",
       "      <th></th>\n",
       "      <th></th>\n",
       "      <th></th>\n",
       "    </tr>\n",
       "  </thead>\n",
       "  <tbody>\n",
       "    <tr>\n",
       "      <th>LOC115210853</th>\n",
       "      <td>0.015403</td>\n",
       "      <td>0.013333</td>\n",
       "      <td>0.030252</td>\n",
       "      <td>0.001701</td>\n",
       "      <td>0.014898</td>\n",
       "      <td>0.015385</td>\n",
       "      <td>0.021053</td>\n",
       "      <td>0.004310</td>\n",
       "      <td>0.026087</td>\n",
       "      <td>0.011111</td>\n",
       "      <td>...</td>\n",
       "      <td>0.021739</td>\n",
       "      <td>0.046512</td>\n",
       "      <td>0.000000</td>\n",
       "      <td>0.000000</td>\n",
       "      <td>0.04</td>\n",
       "      <td>0.041667</td>\n",
       "      <td>0.000000</td>\n",
       "      <td>0.000000</td>\n",
       "      <td>0.000000</td>\n",
       "      <td>LOC115210853</td>\n",
       "    </tr>\n",
       "    <tr>\n",
       "      <th>LOC118760835</th>\n",
       "      <td>1.656398</td>\n",
       "      <td>1.058667</td>\n",
       "      <td>5.596639</td>\n",
       "      <td>2.493197</td>\n",
       "      <td>1.128492</td>\n",
       "      <td>2.163462</td>\n",
       "      <td>2.141053</td>\n",
       "      <td>1.648707</td>\n",
       "      <td>2.556522</td>\n",
       "      <td>1.808889</td>\n",
       "      <td>...</td>\n",
       "      <td>2.500000</td>\n",
       "      <td>1.209302</td>\n",
       "      <td>3.189189</td>\n",
       "      <td>1.448276</td>\n",
       "      <td>0.48</td>\n",
       "      <td>2.458333</td>\n",
       "      <td>4.529412</td>\n",
       "      <td>2.692308</td>\n",
       "      <td>2.615385</td>\n",
       "      <td>LOC118760835</td>\n",
       "    </tr>\n",
       "    <tr>\n",
       "      <th>LOC115224998</th>\n",
       "      <td>0.009479</td>\n",
       "      <td>0.020000</td>\n",
       "      <td>0.023529</td>\n",
       "      <td>0.008503</td>\n",
       "      <td>0.007449</td>\n",
       "      <td>0.003846</td>\n",
       "      <td>0.006316</td>\n",
       "      <td>0.002155</td>\n",
       "      <td>0.015217</td>\n",
       "      <td>0.002222</td>\n",
       "      <td>...</td>\n",
       "      <td>0.000000</td>\n",
       "      <td>0.000000</td>\n",
       "      <td>0.000000</td>\n",
       "      <td>0.000000</td>\n",
       "      <td>0.00</td>\n",
       "      <td>0.083333</td>\n",
       "      <td>0.000000</td>\n",
       "      <td>0.000000</td>\n",
       "      <td>0.000000</td>\n",
       "      <td>LOC115224998</td>\n",
       "    </tr>\n",
       "    <tr>\n",
       "      <th>LOC118768086</th>\n",
       "      <td>0.001185</td>\n",
       "      <td>0.002667</td>\n",
       "      <td>0.003361</td>\n",
       "      <td>0.003401</td>\n",
       "      <td>0.000000</td>\n",
       "      <td>0.003846</td>\n",
       "      <td>0.004211</td>\n",
       "      <td>0.000000</td>\n",
       "      <td>0.002174</td>\n",
       "      <td>0.004444</td>\n",
       "      <td>...</td>\n",
       "      <td>0.000000</td>\n",
       "      <td>0.000000</td>\n",
       "      <td>0.000000</td>\n",
       "      <td>0.000000</td>\n",
       "      <td>0.00</td>\n",
       "      <td>0.000000</td>\n",
       "      <td>0.058824</td>\n",
       "      <td>0.000000</td>\n",
       "      <td>0.000000</td>\n",
       "      <td>LOC118768086</td>\n",
       "    </tr>\n",
       "    <tr>\n",
       "      <th>LOC118768290</th>\n",
       "      <td>0.003555</td>\n",
       "      <td>0.004000</td>\n",
       "      <td>0.005042</td>\n",
       "      <td>0.001701</td>\n",
       "      <td>0.000000</td>\n",
       "      <td>0.003846</td>\n",
       "      <td>0.000000</td>\n",
       "      <td>0.000000</td>\n",
       "      <td>0.004348</td>\n",
       "      <td>0.002222</td>\n",
       "      <td>...</td>\n",
       "      <td>0.000000</td>\n",
       "      <td>0.023256</td>\n",
       "      <td>0.000000</td>\n",
       "      <td>0.000000</td>\n",
       "      <td>0.00</td>\n",
       "      <td>0.000000</td>\n",
       "      <td>0.000000</td>\n",
       "      <td>0.000000</td>\n",
       "      <td>0.000000</td>\n",
       "      <td>LOC118768290</td>\n",
       "    </tr>\n",
       "  </tbody>\n",
       "</table>\n",
       "<p>5 rows × 88 columns</p>\n",
       "</div>"
      ],
      "text/plain": [
       "                     0         1         2         3         4         5  \\\n",
       "gene_id                                                                    \n",
       "LOC115210853  0.015403  0.013333  0.030252  0.001701  0.014898  0.015385   \n",
       "LOC118760835  1.656398  1.058667  5.596639  2.493197  1.128492  2.163462   \n",
       "LOC115224998  0.009479  0.020000  0.023529  0.008503  0.007449  0.003846   \n",
       "LOC118768086  0.001185  0.002667  0.003361  0.003401  0.000000  0.003846   \n",
       "LOC118768290  0.003555  0.004000  0.005042  0.001701  0.000000  0.003846   \n",
       "\n",
       "                     6         7         8         9  ...        78        79  \\\n",
       "gene_id                                               ...                       \n",
       "LOC115210853  0.021053  0.004310  0.026087  0.011111  ...  0.021739  0.046512   \n",
       "LOC118760835  2.141053  1.648707  2.556522  1.808889  ...  2.500000  1.209302   \n",
       "LOC115224998  0.006316  0.002155  0.015217  0.002222  ...  0.000000  0.000000   \n",
       "LOC118768086  0.004211  0.000000  0.002174  0.004444  ...  0.000000  0.000000   \n",
       "LOC118768290  0.000000  0.000000  0.004348  0.002222  ...  0.000000  0.023256   \n",
       "\n",
       "                    80        81    82        83        84        85  \\\n",
       "gene_id                                                                \n",
       "LOC115210853  0.000000  0.000000  0.04  0.041667  0.000000  0.000000   \n",
       "LOC118760835  3.189189  1.448276  0.48  2.458333  4.529412  2.692308   \n",
       "LOC115224998  0.000000  0.000000  0.00  0.083333  0.000000  0.000000   \n",
       "LOC118768086  0.000000  0.000000  0.00  0.000000  0.058824  0.000000   \n",
       "LOC118768290  0.000000  0.000000  0.00  0.000000  0.000000  0.000000   \n",
       "\n",
       "                    86     gene_id.1  \n",
       "gene_id                               \n",
       "LOC115210853  0.000000  LOC115210853  \n",
       "LOC118760835  2.615385  LOC118760835  \n",
       "LOC115224998  0.000000  LOC115224998  \n",
       "LOC118768086  0.000000  LOC118768086  \n",
       "LOC118768290  0.000000  LOC118768290  \n",
       "\n",
       "[5 rows x 88 columns]"
      ]
     },
     "execution_count": 64,
     "metadata": {},
     "output_type": "execute_result"
    }
   ],
   "source": [
    "tf_mtx_avEx_Brain_celltypes.head()"
   ]
  },
  {
   "cell_type": "code",
   "execution_count": 84,
   "id": "1f9a7742",
   "metadata": {},
   "outputs": [
    {
     "data": {
      "text/plain": [
       "(172, 88)"
      ]
     },
     "execution_count": 84,
     "metadata": {},
     "output_type": "execute_result"
    }
   ],
   "source": [
    "tf_mtx_avEx_Brain_celltypes.shape"
   ]
  },
  {
   "cell_type": "code",
   "execution_count": 102,
   "id": "48a98f04-e43c-4529-96d9-dd45b5cfc5c6",
   "metadata": {},
   "outputs": [
    {
     "name": "stderr",
     "output_type": "stream",
     "text": [
      "/data/leuven/329/vsc32990/miniconda3/envs/tau/lib/python3.7/site-packages/tspex/core/specificity_class.py:105: UserWarning: The input DataFrame contains non-numerical columns. These columns were removed.\n",
      "  'The input DataFrame contains non-numerical columns. These columns were removed.'\n"
     ]
    }
   ],
   "source": [
    "tso = tspex.TissueSpecificity(tf_mtx_avEx_Brain_celltypes, 'tau', log=False)"
   ]
  },
  {
   "cell_type": "code",
   "execution_count": 103,
   "id": "abc19d4a-84df-45c4-b31c-98061c6b5d48",
   "metadata": {},
   "outputs": [
    {
     "data": {
      "text/plain": [
       "gene_id\n",
       "mt-ATP6         0.6630\n",
       "LOC115208758    0.7778\n",
       "LOC115208759    0.8057\n",
       "LOC115208771    0.4640\n",
       "LOC115208791    0.9478\n",
       "dtype: float64"
      ]
     },
     "execution_count": 103,
     "metadata": {},
     "output_type": "execute_result"
    }
   ],
   "source": [
    "tso.tissue_specificity.head()"
   ]
  },
  {
   "cell_type": "code",
   "execution_count": 104,
   "id": "cdcd9a33-5186-4cac-9c3e-c3c800bfef2f",
   "metadata": {},
   "outputs": [
    {
     "data": {
      "image/png": "[encoded data removed]",
      "text/plain": [
       "<Figure size 450x300 with 1 Axes>"
      ]
     },
     "metadata": {},
     "output_type": "display_data"
    }
   ],
   "source": [
    "tso.plot_histogram()"
   ]
  },
  {
   "cell_type": "code",
   "execution_count": 105,
   "id": "9c10b17d-2c03-43d6-8b2e-513ca9cb9135",
   "metadata": {},
   "outputs": [
    {
     "data": {
      "image/png": "[encoded data removed]",
      "text/plain": [
       "<Figure size 450x300 with 2 Axes>"
      ]
     },
     "metadata": {
      "needs_background": "light"
     },
     "output_type": "display_data"
    }
   ],
   "source": [
    "tso.plot_heatmap(threshold=0.8, sort_genes=True, use_zscore=True, gene_names=False)"
   ]
  },
  {
   "cell_type": "code",
   "execution_count": 106,
   "id": "d87a953b-6244-41f5-b49a-3288252a9b5b",
   "metadata": {},
   "outputs": [
    {
     "data": {
      "text/plain": [
       "gene_id\n",
       "LOC115221260    1.0000\n",
       "LOC118766370    1.0000\n",
       "LOC115213537    0.9999\n",
       "LOC115213031    0.9999\n",
       "LOC115213389    0.9998\n",
       "                 ...  \n",
       "LOC115209699    0.3138\n",
       "LOC115212820    0.3115\n",
       "LOC115225831    0.2992\n",
       "LOC115210674    0.2766\n",
       "LOC115220933    0.2131\n",
       "Length: 17947, dtype: float64"
      ]
     },
     "execution_count": 106,
     "metadata": {},
     "output_type": "execute_result"
    }
   ],
   "source": [
    "tso.tissue_specificity.sort_values(ascending=False)"
   ]
  },
  {
   "cell_type": "code",
   "execution_count": 107,
   "id": "f09dd13f-70ae-40ec-b9e7-11cf78c31c12",
   "metadata": {},
   "outputs": [
    {
     "name": "stderr",
     "output_type": "stream",
     "text": [
      "/data/leuven/329/vsc32990/miniconda3/envs/tau/lib/python3.7/site-packages/seaborn/_decorators.py:43: FutureWarning: Pass the following variable as a keyword arg: x. From version 0.12, the only valid positional argument will be `data`, and passing other arguments without an explicit keyword will result in an error or misinterpretation.\n",
      "  FutureWarning\n"
     ]
    },
    {
     "data": {
      "text/plain": [
       "<AxesSubplot:xlabel='ncells'>"
      ]
     },
     "execution_count": 107,
     "metadata": {},
     "output_type": "execute_result"
    },
    {
     "data": {
      "image/png": "[encoded data removed]",
      "text/plain": [
       "<Figure size 432x288 with 1 Axes>"
      ]
     },
     "metadata": {
      "needs_background": "light"
     },
     "output_type": "display_data"
    }
   ],
   "source": [
    "sns.violinplot(df_ncells.ncells)"
   ]
  },
  {
   "cell_type": "code",
   "execution_count": 73,
   "id": "d1e83045-2c15-40c7-ab98-86141c3c9749",
   "metadata": {},
   "outputs": [],
   "source": [
    "# visualize genes that are expressed in more than 20 cells\n",
    "thrncells = 20\n",
    "sel_genes = df_ncells.loc[ df_ncells.ncells > thrncells].index\n",
    "sel_tfs = list(set(sel_genes) & set(all_tfs))"
   ]
  },
  {
   "cell_type": "code",
   "execution_count": 93,
   "id": "9ebb165a",
   "metadata": {},
   "outputs": [],
   "source": [
    "# visualize genes that are expressed in more than 20 cells\n",
    "thrncells = 20\n",
    "sel_genes = df_ncells.loc[ df_ncells.ncells > thrncells].index\n",
    "sel_pcdhs = list(set(sel_genes) & set(all_pcdhs))"
   ]
  },
  {
   "cell_type": "code",
   "execution_count": 108,
   "id": "7c6dd6fd",
   "metadata": {},
   "outputs": [],
   "source": [
    "# visualize genes that are expressed in more than 20 cells\n",
    "thrncells = 20\n",
    "sel_genes = df_ncells.loc[ df_ncells.ncells > thrncells].index\n",
    "sel_allgenes = list(set(sel_genes) & set(all_genes))"
   ]
  },
  {
   "cell_type": "code",
   "execution_count": 109,
   "id": "3ce089f4-c7af-48e2-a60b-7b751e6b9f72",
   "metadata": {},
   "outputs": [],
   "source": [
    "tau = tso.tissue_specificity.sort_values(ascending=False)"
   ]
  },
  {
   "cell_type": "code",
   "execution_count": 110,
   "id": "89170fed-e99c-4d21-b664-8d559b0e5cd6",
   "metadata": {},
   "outputs": [
    {
     "data": {
      "text/plain": [
       "gene_id\n",
       "LOC115213031       0.9999\n",
       "LOC115213389       0.9998\n",
       "LOC115217201       0.9997\n",
       "LOC115213516       0.9997\n",
       "novelGene-34478    0.9997\n",
       "                    ...  \n",
       "LOC115209699       0.3138\n",
       "LOC115212820       0.3115\n",
       "LOC115225831       0.2992\n",
       "LOC115210674       0.2766\n",
       "LOC115220933       0.2131\n",
       "Length: 16348, dtype: float64"
      ]
     },
     "execution_count": 110,
     "metadata": {},
     "output_type": "execute_result"
    }
   ],
   "source": [
    "tau.loc[sel_allgenes].sort_values(ascending=False)"
   ]
  },
  {
   "cell_type": "code",
   "execution_count": 95,
   "id": "bae17f7b",
   "metadata": {},
   "outputs": [
    {
     "data": {
      "text/plain": [
       "gene_id\n",
       "LOC115218977    0.9968\n",
       "LOC115218969    0.9950\n",
       "LOC115218755    0.9932\n",
       "LOC118765869    0.9928\n",
       "LOC118766058    0.9820\n",
       "                 ...  \n",
       "LOC115218748    0.4879\n",
       "LOC115218960    0.4564\n",
       "LOC115219387    0.4354\n",
       "LOC115219433    0.4337\n",
       "LOC115219494    0.3677\n",
       "Length: 168, dtype: float64"
      ]
     },
     "execution_count": 95,
     "metadata": {},
     "output_type": "execute_result"
    }
   ],
   "source": [
    "tau.loc[sel_pcdhs].sort_values(ascending=False)"
   ]
  },
  {
   "cell_type": "code",
   "execution_count": 111,
   "id": "9ec69d1b-4006-449a-ac2e-a719978049e2",
   "metadata": {},
   "outputs": [],
   "source": [
    "df_sel_ncells = df_ncells.loc[tau.index]"
   ]
  },
  {
   "cell_type": "code",
   "execution_count": 112,
   "id": "14eb9ee3-6a77-4dc2-9a08-cce4024d0a8c",
   "metadata": {},
   "outputs": [],
   "source": [
    "df_out_tau = pd.DataFrame(\n",
    "    {\n",
    "        'gene_id': tau.index,\n",
    "        'tau': tau,\n",
    "        'ncells': df_sel_ncells.ncells\n",
    "    }\n",
    ")"
   ]
  },
  {
   "cell_type": "code",
   "execution_count": 113,
   "id": "7692e202-9210-4a2c-a317-7fedf8d89c4c",
   "metadata": {},
   "outputs": [],
   "source": [
    "df_out_tau.to_csv(path_out_tau, sep='\\t', index=False)"
   ]
  },
  {
   "cell_type": "code",
   "execution_count": 99,
   "id": "77c56ff5-c045-4e2b-9ee9-412036d7e280",
   "metadata": {},
   "outputs": [
    {
     "data": {
      "image/png": "[encoded data removed]",
      "text/plain": [
       "<Figure size 450x300 with 2 Axes>"
      ]
     },
     "metadata": {
      "needs_background": "light"
     },
     "output_type": "display_data"
    }
   ],
   "source": [
    "tso.plot_heatmap(threshold=0.8, sort_genes=True, use_zscore=True, gene_names=False)"
   ]
  },
  {
   "cell_type": "markdown",
   "id": "ce911a34",
   "metadata": {},
   "source": [
    "### Calculate TF family enrichment within the rank of tau (GSEA with GSEAPY)"
   ]
  },
  {
   "cell_type": "code",
   "execution_count": 4,
   "id": "efcfe809",
   "metadata": {},
   "outputs": [],
   "source": [
    "import pandas as pd\n",
    "import gseapy as gp\n",
    "import matplotlib.pyplot as plt"
   ]
  },
  {
   "cell_type": "code",
   "execution_count": 123,
   "id": "a7a7e151",
   "metadata": {},
   "outputs": [],
   "source": [
    "# file paths\n",
    "path_out_tau = \"/staging/leuven/stg_00056/octopus/annotation/tau/tau.tsv\"\n",
    "path_ov_tf_gmt = \"/staging/leuven/stg_00056/octopus/annotation/tau/gene_sets.gmt\"\n",
    "path_out_dir = \"/staging/leuven/stg_00056/octopus/annotation/tau/gsea_tau_cellType_TF_family\"\n",
    "\n",
    "# min cells\n",
    "min_cells = 20"
   ]
  },
  {
   "cell_type": "code",
   "execution_count": 124,
   "id": "5eb06d88",
   "metadata": {},
   "outputs": [
    {
     "data": {
      "text/html": [
       "<div>\n",
       "<style scoped>\n",
       "    .dataframe tbody tr th:only-of-type {\n",
       "        vertical-align: middle;\n",
       "    }\n",
       "\n",
       "    .dataframe tbody tr th {\n",
       "        vertical-align: top;\n",
       "    }\n",
       "\n",
       "    .dataframe thead th {\n",
       "        text-align: right;\n",
       "    }\n",
       "</style>\n",
       "<table border=\"1\" class=\"dataframe\">\n",
       "  <thead>\n",
       "    <tr style=\"text-align: right;\">\n",
       "      <th></th>\n",
       "      <th>tau</th>\n",
       "      <th>ncells</th>\n",
       "    </tr>\n",
       "    <tr>\n",
       "      <th>gene_id</th>\n",
       "      <th></th>\n",
       "      <th></th>\n",
       "    </tr>\n",
       "  </thead>\n",
       "  <tbody>\n",
       "    <tr>\n",
       "      <th>LOC115219332</th>\n",
       "      <td>0.9982</td>\n",
       "      <td>4292</td>\n",
       "    </tr>\n",
       "    <tr>\n",
       "      <th>LOC115228477</th>\n",
       "      <td>0.9959</td>\n",
       "      <td>8</td>\n",
       "    </tr>\n",
       "    <tr>\n",
       "      <th>LOC118768376</th>\n",
       "      <td>0.9956</td>\n",
       "      <td>8</td>\n",
       "    </tr>\n",
       "    <tr>\n",
       "      <th>LOC118768568</th>\n",
       "      <td>0.9952</td>\n",
       "      <td>8</td>\n",
       "    </tr>\n",
       "    <tr>\n",
       "      <th>LOC115230954</th>\n",
       "      <td>0.9938</td>\n",
       "      <td>41</td>\n",
       "    </tr>\n",
       "  </tbody>\n",
       "</table>\n",
       "</div>"
      ],
      "text/plain": [
       "                 tau  ncells\n",
       "gene_id                     \n",
       "LOC115219332  0.9982    4292\n",
       "LOC115228477  0.9959       8\n",
       "LOC118768376  0.9956       8\n",
       "LOC118768568  0.9952       8\n",
       "LOC115230954  0.9938      41"
      ]
     },
     "execution_count": 124,
     "metadata": {},
     "output_type": "execute_result"
    }
   ],
   "source": [
    "# or assign a dataframe, or Series to ssgsea()\n",
    "ssdf = pd.read_csv(path_out_tau, sep=\"\\t\", index_col='gene_id')\n",
    "ssdf.head()"
   ]
  },
  {
   "cell_type": "code",
   "execution_count": 125,
   "id": "8d79f734",
   "metadata": {},
   "outputs": [
    {
     "data": {
      "text/html": [
       "<div>\n",
       "<style scoped>\n",
       "    .dataframe tbody tr th:only-of-type {\n",
       "        vertical-align: middle;\n",
       "    }\n",
       "\n",
       "    .dataframe tbody tr th {\n",
       "        vertical-align: top;\n",
       "    }\n",
       "\n",
       "    .dataframe thead th {\n",
       "        text-align: right;\n",
       "    }\n",
       "</style>\n",
       "<table border=\"1\" class=\"dataframe\">\n",
       "  <thead>\n",
       "    <tr style=\"text-align: right;\">\n",
       "      <th></th>\n",
       "      <th>tau</th>\n",
       "    </tr>\n",
       "    <tr>\n",
       "      <th>gene_id</th>\n",
       "      <th></th>\n",
       "    </tr>\n",
       "  </thead>\n",
       "  <tbody>\n",
       "    <tr>\n",
       "      <th>LOC115219332</th>\n",
       "      <td>0.9982</td>\n",
       "    </tr>\n",
       "    <tr>\n",
       "      <th>LOC115230954</th>\n",
       "      <td>0.9938</td>\n",
       "    </tr>\n",
       "    <tr>\n",
       "      <th>LOC115216493</th>\n",
       "      <td>0.9934</td>\n",
       "    </tr>\n",
       "    <tr>\n",
       "      <th>LOC115210425</th>\n",
       "      <td>0.9934</td>\n",
       "    </tr>\n",
       "    <tr>\n",
       "      <th>LOC115226888</th>\n",
       "      <td>0.9931</td>\n",
       "    </tr>\n",
       "  </tbody>\n",
       "</table>\n",
       "</div>"
      ],
      "text/plain": [
       "                 tau\n",
       "gene_id             \n",
       "LOC115219332  0.9982\n",
       "LOC115230954  0.9938\n",
       "LOC115216493  0.9934\n",
       "LOC115210425  0.9934\n",
       "LOC115226888  0.9931"
      ]
     },
     "execution_count": 125,
     "metadata": {},
     "output_type": "execute_result"
    }
   ],
   "source": [
    "# filter by min cells\n",
    "ssdf= ssdf.loc[ ssdf.ncells >= min_cells]\n",
    "\n",
    "# drop ncells column\n",
    "ssdf = ssdf.drop('ncells', axis=1)\n",
    "ssdf.head()"
   ]
  },
  {
   "cell_type": "code",
   "execution_count": 126,
   "id": "3cd10fdb",
   "metadata": {},
   "outputs": [],
   "source": [
    "ssgs = gp.ssgsea(data=ssdf,\n",
    "                       gene_sets=path_ov_tf_gmt,\n",
    "                       outdir=path_out_dir + '/ssgsea_report',\n",
    "                       scale=False, # set scale to False to get real original ES\n",
    "                       permutation_num=0, # skip permutation procedure, because you don't need it\n",
    "                       no_plot=False,\n",
    "                       processes=4, seed=10,\n",
    "                       format='png')"
   ]
  },
  {
   "cell_type": "code",
   "execution_count": 127,
   "id": "d48a2bde",
   "metadata": {},
   "outputs": [
    {
     "data": {
      "text/html": [
       "<div>\n",
       "<style scoped>\n",
       "    .dataframe tbody tr th:only-of-type {\n",
       "        vertical-align: middle;\n",
       "    }\n",
       "\n",
       "    .dataframe tbody tr th {\n",
       "        vertical-align: top;\n",
       "    }\n",
       "\n",
       "    .dataframe thead th {\n",
       "        text-align: right;\n",
       "    }\n",
       "</style>\n",
       "<table border=\"1\" class=\"dataframe\">\n",
       "  <thead>\n",
       "    <tr style=\"text-align: right;\">\n",
       "      <th></th>\n",
       "      <th>tau</th>\n",
       "    </tr>\n",
       "    <tr>\n",
       "      <th>Term|NES</th>\n",
       "      <th></th>\n",
       "    </tr>\n",
       "  </thead>\n",
       "  <tbody>\n",
       "    <tr>\n",
       "      <th>HMG</th>\n",
       "      <td>0.030330</td>\n",
       "    </tr>\n",
       "    <tr>\n",
       "      <th>Homeobox</th>\n",
       "      <td>0.639425</td>\n",
       "    </tr>\n",
       "    <tr>\n",
       "      <th>MYB</th>\n",
       "      <td>-0.360575</td>\n",
       "    </tr>\n",
       "    <tr>\n",
       "      <th>TF_bZIP</th>\n",
       "      <td>-0.013782</td>\n",
       "    </tr>\n",
       "    <tr>\n",
       "      <th>THR-like</th>\n",
       "      <td>-0.137799</td>\n",
       "    </tr>\n",
       "  </tbody>\n",
       "</table>\n",
       "</div>"
      ],
      "text/plain": [
       "               tau\n",
       "Term|NES          \n",
       "HMG       0.030330\n",
       "Homeobox  0.639425\n",
       "MYB      -0.360575\n",
       "TF_bZIP  -0.013782\n",
       "THR-like -0.137799"
      ]
     },
     "execution_count": 127,
     "metadata": {},
     "output_type": "execute_result"
    }
   ],
   "source": [
    "# normalized es save to res2d attri\n",
    "# one sample input\n",
    "# NES\n",
    "ssgs.res2d.sort_index().head()"
   ]
  },
  {
   "cell_type": "code",
   "execution_count": 129,
   "id": "4d4d2f44",
   "metadata": {},
   "outputs": [
    {
     "data": {
      "text/html": [
       "<div>\n",
       "<style scoped>\n",
       "    .dataframe tbody tr th:only-of-type {\n",
       "        vertical-align: middle;\n",
       "    }\n",
       "\n",
       "    .dataframe tbody tr th {\n",
       "        vertical-align: top;\n",
       "    }\n",
       "\n",
       "    .dataframe thead th {\n",
       "        text-align: right;\n",
       "    }\n",
       "</style>\n",
       "<table border=\"1\" class=\"dataframe\">\n",
       "  <thead>\n",
       "    <tr style=\"text-align: right;\">\n",
       "      <th></th>\n",
       "      <th>tau</th>\n",
       "    </tr>\n",
       "    <tr>\n",
       "      <th>Term|ES</th>\n",
       "      <th></th>\n",
       "    </tr>\n",
       "  </thead>\n",
       "  <tbody>\n",
       "    <tr>\n",
       "      <th>HMG</th>\n",
       "      <td>26.805404</td>\n",
       "    </tr>\n",
       "    <tr>\n",
       "      <th>Homeobox</th>\n",
       "      <td>565.121738</td>\n",
       "    </tr>\n",
       "    <tr>\n",
       "      <th>MYB</th>\n",
       "      <td>-318.675325</td>\n",
       "    </tr>\n",
       "    <tr>\n",
       "      <th>TF_bZIP</th>\n",
       "      <td>-12.180852</td>\n",
       "    </tr>\n",
       "    <tr>\n",
       "      <th>THR-like</th>\n",
       "      <td>-121.785923</td>\n",
       "    </tr>\n",
       "  </tbody>\n",
       "</table>\n",
       "</div>"
      ],
      "text/plain": [
       "                 tau\n",
       "Term|ES             \n",
       "HMG        26.805404\n",
       "Homeobox  565.121738\n",
       "MYB      -318.675325\n",
       "TF_bZIP   -12.180852\n",
       "THR-like -121.785923"
      ]
     },
     "execution_count": 129,
     "metadata": {},
     "output_type": "execute_result"
    }
   ],
   "source": [
    "# ES\n",
    "# convert dict to DataFrame\n",
    "es = pd.DataFrame(ssgs.resultsOnSamples)\n",
    "es.sort_index().head()"
   ]
  },
  {
   "cell_type": "code",
   "execution_count": 130,
   "id": "f08c4139",
   "metadata": {},
   "outputs": [
    {
     "data": {
      "text/html": [
       "<div>\n",
       "<style scoped>\n",
       "    .dataframe tbody tr th:only-of-type {\n",
       "        vertical-align: middle;\n",
       "    }\n",
       "\n",
       "    .dataframe tbody tr th {\n",
       "        vertical-align: top;\n",
       "    }\n",
       "\n",
       "    .dataframe thead th {\n",
       "        text-align: right;\n",
       "    }\n",
       "</style>\n",
       "<table border=\"1\" class=\"dataframe\">\n",
       "  <thead>\n",
       "    <tr style=\"text-align: right;\">\n",
       "      <th></th>\n",
       "      <th>tau</th>\n",
       "    </tr>\n",
       "    <tr>\n",
       "      <th>Term|NES</th>\n",
       "      <th></th>\n",
       "    </tr>\n",
       "  </thead>\n",
       "  <tbody>\n",
       "    <tr>\n",
       "      <th>Homeobox</th>\n",
       "      <td>0.639425</td>\n",
       "    </tr>\n",
       "    <tr>\n",
       "      <th>bHLH</th>\n",
       "      <td>0.370446</td>\n",
       "    </tr>\n",
       "    <tr>\n",
       "      <th>zf-C2H2</th>\n",
       "      <td>0.102001</td>\n",
       "    </tr>\n",
       "    <tr>\n",
       "      <th>zf-H2C2_2</th>\n",
       "      <td>0.058935</td>\n",
       "    </tr>\n",
       "    <tr>\n",
       "      <th>HMG</th>\n",
       "      <td>0.030330</td>\n",
       "    </tr>\n",
       "    <tr>\n",
       "      <th>TF_bZIP</th>\n",
       "      <td>-0.013782</td>\n",
       "    </tr>\n",
       "    <tr>\n",
       "      <th>THR-like</th>\n",
       "      <td>-0.137799</td>\n",
       "    </tr>\n",
       "    <tr>\n",
       "      <th>MYB</th>\n",
       "      <td>-0.360575</td>\n",
       "    </tr>\n",
       "  </tbody>\n",
       "</table>\n",
       "</div>"
      ],
      "text/plain": [
       "                tau\n",
       "Term|NES           \n",
       "Homeobox   0.639425\n",
       "bHLH       0.370446\n",
       "zf-C2H2    0.102001\n",
       "zf-H2C2_2  0.058935\n",
       "HMG        0.030330\n",
       "TF_bZIP   -0.013782\n",
       "THR-like  -0.137799\n",
       "MYB       -0.360575"
      ]
     },
     "execution_count": 130,
     "metadata": {},
     "output_type": "execute_result"
    }
   ],
   "source": [
    "ssgs.res2d.sort_values('tau', ascending=False)"
   ]
  },
  {
   "cell_type": "code",
   "execution_count": null,
   "id": "7ba44574",
   "metadata": {},
   "outputs": [],
   "source": [
    "#calculate pre-rank"
   ]
  },
  {
   "cell_type": "code",
   "execution_count": 133,
   "id": "4889145c",
   "metadata": {},
   "outputs": [
    {
     "data": {
      "text/html": [
       "<div>\n",
       "<style scoped>\n",
       "    .dataframe tbody tr th:only-of-type {\n",
       "        vertical-align: middle;\n",
       "    }\n",
       "\n",
       "    .dataframe tbody tr th {\n",
       "        vertical-align: top;\n",
       "    }\n",
       "\n",
       "    .dataframe thead th {\n",
       "        text-align: right;\n",
       "    }\n",
       "</style>\n",
       "<table border=\"1\" class=\"dataframe\">\n",
       "  <thead>\n",
       "    <tr style=\"text-align: right;\">\n",
       "      <th></th>\n",
       "      <th>gene_id</th>\n",
       "      <th>tau</th>\n",
       "    </tr>\n",
       "  </thead>\n",
       "  <tbody>\n",
       "    <tr>\n",
       "      <th>0</th>\n",
       "      <td>LOC115219332</td>\n",
       "      <td>0.9982</td>\n",
       "    </tr>\n",
       "    <tr>\n",
       "      <th>4</th>\n",
       "      <td>LOC115230954</td>\n",
       "      <td>0.9938</td>\n",
       "    </tr>\n",
       "    <tr>\n",
       "      <th>6</th>\n",
       "      <td>LOC115210425</td>\n",
       "      <td>0.9934</td>\n",
       "    </tr>\n",
       "    <tr>\n",
       "      <th>5</th>\n",
       "      <td>LOC115216493</td>\n",
       "      <td>0.9934</td>\n",
       "    </tr>\n",
       "    <tr>\n",
       "      <th>7</th>\n",
       "      <td>LOC115226888</td>\n",
       "      <td>0.9931</td>\n",
       "    </tr>\n",
       "    <tr>\n",
       "      <th>...</th>\n",
       "      <td>...</td>\n",
       "      <td>...</td>\n",
       "    </tr>\n",
       "    <tr>\n",
       "      <th>1756</th>\n",
       "      <td>LOC115211127</td>\n",
       "      <td>0.4223</td>\n",
       "    </tr>\n",
       "    <tr>\n",
       "      <th>1757</th>\n",
       "      <td>LOC115221753</td>\n",
       "      <td>0.4207</td>\n",
       "    </tr>\n",
       "    <tr>\n",
       "      <th>1758</th>\n",
       "      <td>LOC115212964</td>\n",
       "      <td>0.4025</td>\n",
       "    </tr>\n",
       "    <tr>\n",
       "      <th>1759</th>\n",
       "      <td>LOC115222634</td>\n",
       "      <td>0.4011</td>\n",
       "    </tr>\n",
       "    <tr>\n",
       "      <th>1760</th>\n",
       "      <td>LOC115222896</td>\n",
       "      <td>0.3849</td>\n",
       "    </tr>\n",
       "  </tbody>\n",
       "</table>\n",
       "<p>1684 rows × 2 columns</p>\n",
       "</div>"
      ],
      "text/plain": [
       "           gene_id     tau\n",
       "0     LOC115219332  0.9982\n",
       "4     LOC115230954  0.9938\n",
       "6     LOC115210425  0.9934\n",
       "5     LOC115216493  0.9934\n",
       "7     LOC115226888  0.9931\n",
       "...            ...     ...\n",
       "1756  LOC115211127  0.4223\n",
       "1757  LOC115221753  0.4207\n",
       "1758  LOC115212964  0.4025\n",
       "1759  LOC115222634  0.4011\n",
       "1760  LOC115222896  0.3849\n",
       "\n",
       "[1684 rows x 2 columns]"
      ]
     },
     "execution_count": 133,
     "metadata": {},
     "output_type": "execute_result"
    }
   ],
   "source": [
    "# assign rank as index\n",
    "ssdf = pd.read_csv(path_out_tau, sep=\"\\t\")\n",
    "ssdf = ssdf.sort_values('tau', ascending=False)\n",
    "\n",
    "# filter by min cells\n",
    "ssdf= ssdf.loc[ ssdf.ncells >= min_cells]\n",
    "# drop ncells column\n",
    "ssdf = ssdf.drop('ncells', axis=1)\n",
    "\n",
    "ssdf"
   ]
  },
  {
   "cell_type": "code",
   "execution_count": 135,
   "id": "683a41a1",
   "metadata": {},
   "outputs": [],
   "source": [
    "# run prerank\n",
    "# enrichr libraries are supported by prerank module. Just provide the name\n",
    "# use 4 process to acceralate the permutation speed\n",
    "\n",
    "# note: multiprocessing may not work on windows\n",
    "pre_res = gp.prerank(rnk=ssdf, gene_sets=path_ov_tf_gmt,\n",
    "                     processes=4,\n",
    "                     permutation_num=100, # reduce number to speed up testing\n",
    "                     outdir=path_out_dir + '/prerank_report', format='png', seed=6)"
   ]
  },
  {
   "cell_type": "code",
   "execution_count": 136,
   "id": "ef2a2faf",
   "metadata": {},
   "outputs": [
    {
     "data": {
      "text/html": [
       "<div>\n",
       "<style scoped>\n",
       "    .dataframe tbody tr th:only-of-type {\n",
       "        vertical-align: middle;\n",
       "    }\n",
       "\n",
       "    .dataframe tbody tr th {\n",
       "        vertical-align: top;\n",
       "    }\n",
       "\n",
       "    .dataframe thead th {\n",
       "        text-align: right;\n",
       "    }\n",
       "</style>\n",
       "<table border=\"1\" class=\"dataframe\">\n",
       "  <thead>\n",
       "    <tr style=\"text-align: right;\">\n",
       "      <th></th>\n",
       "      <th>es</th>\n",
       "      <th>nes</th>\n",
       "      <th>pval</th>\n",
       "      <th>fdr</th>\n",
       "      <th>geneset_size</th>\n",
       "      <th>matched_size</th>\n",
       "      <th>genes</th>\n",
       "      <th>ledge_genes</th>\n",
       "    </tr>\n",
       "    <tr>\n",
       "      <th>Term</th>\n",
       "      <th></th>\n",
       "      <th></th>\n",
       "      <th></th>\n",
       "      <th></th>\n",
       "      <th></th>\n",
       "      <th></th>\n",
       "      <th></th>\n",
       "      <th></th>\n",
       "    </tr>\n",
       "  </thead>\n",
       "  <tbody>\n",
       "    <tr>\n",
       "      <th>Homeobox</th>\n",
       "      <td>0.528182</td>\n",
       "      <td>3.450631</td>\n",
       "      <td>0.000000</td>\n",
       "      <td>0.000000</td>\n",
       "      <td>81</td>\n",
       "      <td>55</td>\n",
       "      <td>LOC118763461;LOC115210569;LOC115219954;LOC1152...</td>\n",
       "      <td>LOC118763461;LOC115210569;LOC115219954;LOC1152...</td>\n",
       "    </tr>\n",
       "    <tr>\n",
       "      <th>MYB</th>\n",
       "      <td>-0.358089</td>\n",
       "      <td>-2.086152</td>\n",
       "      <td>0.000000</td>\n",
       "      <td>0.000000</td>\n",
       "      <td>21</td>\n",
       "      <td>19</td>\n",
       "      <td>LOC115224363;LOC115229010;LOC115223855;LOC1187...</td>\n",
       "      <td>LOC115229010;LOC115223855;LOC118764264;LOC1152...</td>\n",
       "    </tr>\n",
       "    <tr>\n",
       "      <th>bHLH</th>\n",
       "      <td>0.357804</td>\n",
       "      <td>2.321985</td>\n",
       "      <td>0.000000</td>\n",
       "      <td>0.000000</td>\n",
       "      <td>57</td>\n",
       "      <td>44</td>\n",
       "      <td>LOC115230954;LOC115216493;LOC115210657;LOC1152...</td>\n",
       "      <td>LOC115230954;LOC115216493;LOC115210657;LOC1152...</td>\n",
       "    </tr>\n",
       "    <tr>\n",
       "      <th>zf-C2H2</th>\n",
       "      <td>0.124326</td>\n",
       "      <td>1.202892</td>\n",
       "      <td>0.212766</td>\n",
       "      <td>0.318688</td>\n",
       "      <td>213</td>\n",
       "      <td>187</td>\n",
       "      <td>LOC115219332;LOC115226888;LOC115220746;LOC1152...</td>\n",
       "      <td>LOC115219332;LOC115226888;LOC115220746;LOC1152...</td>\n",
       "    </tr>\n",
       "    <tr>\n",
       "      <th>TF_bZIP</th>\n",
       "      <td>-0.196768</td>\n",
       "      <td>-1.204417</td>\n",
       "      <td>0.238095</td>\n",
       "      <td>0.343511</td>\n",
       "      <td>27</td>\n",
       "      <td>22</td>\n",
       "      <td>LOC115216710;LOC115222465;LOC115231435;LOC1152...</td>\n",
       "      <td>LOC115222626;LOC115216400;LOC115212294;LOC1152...</td>\n",
       "    </tr>\n",
       "    <tr>\n",
       "      <th>THR-like</th>\n",
       "      <td>-0.220163</td>\n",
       "      <td>-0.982711</td>\n",
       "      <td>0.535714</td>\n",
       "      <td>0.465649</td>\n",
       "      <td>18</td>\n",
       "      <td>15</td>\n",
       "      <td>LOC115221570;LOC115212410;LOC115224978;LOC1152...</td>\n",
       "      <td>LOC115216876;LOC115232418;LOC115214890;LOC1152...</td>\n",
       "    </tr>\n",
       "    <tr>\n",
       "      <th>HMG</th>\n",
       "      <td>0.079774</td>\n",
       "      <td>0.450579</td>\n",
       "      <td>1.000000</td>\n",
       "      <td>0.998243</td>\n",
       "      <td>45</td>\n",
       "      <td>32</td>\n",
       "      <td>LOC115229011;LOC115209422;LOC115227536;LOC1152...</td>\n",
       "      <td>LOC115229011;LOC115209422;LOC115227536;LOC1152...</td>\n",
       "    </tr>\n",
       "  </tbody>\n",
       "</table>\n",
       "</div>"
      ],
      "text/plain": [
       "                es       nes      pval       fdr  geneset_size  matched_size  \\\n",
       "Term                                                                           \n",
       "Homeobox  0.528182  3.450631  0.000000  0.000000            81            55   \n",
       "MYB      -0.358089 -2.086152  0.000000  0.000000            21            19   \n",
       "bHLH      0.357804  2.321985  0.000000  0.000000            57            44   \n",
       "zf-C2H2   0.124326  1.202892  0.212766  0.318688           213           187   \n",
       "TF_bZIP  -0.196768 -1.204417  0.238095  0.343511            27            22   \n",
       "THR-like -0.220163 -0.982711  0.535714  0.465649            18            15   \n",
       "HMG       0.079774  0.450579  1.000000  0.998243            45            32   \n",
       "\n",
       "                                                      genes  \\\n",
       "Term                                                          \n",
       "Homeobox  LOC118763461;LOC115210569;LOC115219954;LOC1152...   \n",
       "MYB       LOC115224363;LOC115229010;LOC115223855;LOC1187...   \n",
       "bHLH      LOC115230954;LOC115216493;LOC115210657;LOC1152...   \n",
       "zf-C2H2   LOC115219332;LOC115226888;LOC115220746;LOC1152...   \n",
       "TF_bZIP   LOC115216710;LOC115222465;LOC115231435;LOC1152...   \n",
       "THR-like  LOC115221570;LOC115212410;LOC115224978;LOC1152...   \n",
       "HMG       LOC115229011;LOC115209422;LOC115227536;LOC1152...   \n",
       "\n",
       "                                                ledge_genes  \n",
       "Term                                                         \n",
       "Homeobox  LOC118763461;LOC115210569;LOC115219954;LOC1152...  \n",
       "MYB       LOC115229010;LOC115223855;LOC118764264;LOC1152...  \n",
       "bHLH      LOC115230954;LOC115216493;LOC115210657;LOC1152...  \n",
       "zf-C2H2   LOC115219332;LOC115226888;LOC115220746;LOC1152...  \n",
       "TF_bZIP   LOC115222626;LOC115216400;LOC115212294;LOC1152...  \n",
       "THR-like  LOC115216876;LOC115232418;LOC115214890;LOC1152...  \n",
       "HMG       LOC115229011;LOC115209422;LOC115227536;LOC1152...  "
      ]
     },
     "execution_count": 136,
     "metadata": {},
     "output_type": "execute_result"
    }
   ],
   "source": [
    "pre_res.res2d.sort_values('fdr', ascending=True)"
   ]
  },
  {
   "cell_type": "code",
   "execution_count": 137,
   "id": "e4157194",
   "metadata": {},
   "outputs": [],
   "source": [
    "res_df = pre_res.res2d.sort_values('fdr', ascending=True)"
   ]
  }
 ],
 "metadata": {
  "kernelspec": {
   "display_name": "Python 3",
   "language": "python",
   "name": "python3"
  },
  "language_info": {
   "codemirror_mode": {
    "name": "ipython",
    "version": 3
   },
   "file_extension": ".py",
   "mimetype": "text/x-python",
   "name": "python",
   "nbconvert_exporter": "python",
   "pygments_lexer": "ipython3",
   "version": "3.8.10"
  }
 },
 "nbformat": 4,
 "nbformat_minor": 5
}
