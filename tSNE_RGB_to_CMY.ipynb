{
 "cells": [
  {
   "cell_type": "code",
   "execution_count": 2,
   "id": "5e0bd704",
   "metadata": {},
   "outputs": [],
   "source": [
    "import scanpy as sc\n",
    "import pandas as pd\n",
    "import numpy as np\n",
    "from matplotlib import pyplot as plt"
   ]
  },
  {
   "cell_type": "code",
   "execution_count": 3,
   "id": "81529202",
   "metadata": {},
   "outputs": [
    {
     "name": "stdout",
     "output_type": "stream",
     "text": [
      "scanpy==1.7.2 anndata==0.7.6 umap==0.5.1 numpy==1.21.0 scipy==1.7.0 pandas==1.2.5 scikit-learn==0.24.2 statsmodels==0.12.2\n"
     ]
    }
   ],
   "source": [
    "sc.settings.verbosity = 3             # verbosity: errors (0), warnings (1), info (2), hints (3)\n",
    "sc.logging.print_header()\n",
    "sc.settings.set_figure_params(dpi=300, facecolor='white')"
   ]
  },
  {
   "cell_type": "code",
   "execution_count": 4,
   "id": "10b39cba",
   "metadata": {},
   "outputs": [],
   "source": [
    "#specifying the path\n",
    "brain_data_fname = 'C:/Users/SZM/Documents/temporary files R studio/preparing files for GEO/seurat_object_with_annotation.H5ad'"
   ]
  },
  {
   "cell_type": "code",
   "execution_count": 5,
   "id": "c0601142",
   "metadata": {},
   "outputs": [],
   "source": [
    "#reading the h5ad file\n",
    "adata_brain = sc.read_h5ad(brain_data_fname)"
   ]
  },
  {
   "cell_type": "code",
   "execution_count": 7,
   "id": "a13d4656",
   "metadata": {},
   "outputs": [],
   "source": [
    "#specifying the path of the subset\n",
    "th = \"C:/Users/SZM/Documents/temporary files R studio/tsne RGB/th_sct.csv\"\n",
    "vglut = \"C:/Users/SZM/Documents/temporary files R studio/tsne RGB/vglut_sct.csv\"\n",
    "vacht = \"C:/Users/SZM/Documents/temporary files R studio/tsne RGB/vacht_sct.csv\"\n",
    "unch = \"C:/Users/SZM/Documents/temporary files R studio/tsne RGB/unch_sct.csv\"\n",
    "apolpp = \"C:/Users/SZM/Documents/temporary files R studio/tsne RGB/apolpp_sct.csv\"\n",
    "gat = \"C:/Users/SZM/Documents/temporary files R studio/tsne RGB/gat_sct.csv\"\n",
    "vgat = \"C:/Users/SZM/Documents/temporary files R studio/tsne RGB/vgat_sct.csv\"\n",
    "jeb = \"C:/Users/SZM/Documents/temporary files R studio/tsne RGB/jeb_sct.csv\"\n",
    "ppp1 = \"C:/Users/SZM/Documents/temporary files R studio/tsne RGB/ppp1_sct.csv\"\n",
    "pcdho2 = \"C:/Users/SZM/Documents/temporary files R studio/tsne RGB/pcdhO2_sct.csv\"\n",
    "egfr = \"C:/Users/SZM/Documents/temporary files R studio/tsne RGB/egfr_sct.csv\"\n",
    "stard5 = \"C:/Users/SZM/Documents/temporary files R studio/tsne RGB/stard5_sct.csv\"\n",
    "calbindin = \"C:/Users/SZM/Documents/temporary files R studio/tsne RGB/calbindin_sct.csv\"\n",
    "dscam = \"C:/Users/SZM/Documents/temporary files R studio/tsne RGB/dscam_sct.csv\"\n",
    "jeb = \"C:/Users/SZM/Documents/temporary files R studio/tsne RGB/jeb_sct.csv\"\n",
    "root = \"C:/Users/SZM/Documents/temporary files R studio/tsne RGB/root_sct.csv\"\n",
    "insm2 = \"C:/Users/SZM/Documents/temporary files R studio/tsne RGB/insm2_sct.csv\"\n",
    "ascl1 = \"C:/Users/SZM/Documents/temporary files R studio/tsne RGB/ascl1_sct.csv\"\n",
    "neurod = \"C:/Users/SZM/Documents/temporary files R studio/tsne RGB/neurod_sct.csv\"\n",
    "ki67 = \"C:/Users/SZM/Documents/temporary files R studio/tsne RGB/ki67_sct.csv\""
   ]
  },
  {
   "cell_type": "code",
   "execution_count": 9,
   "id": "42107e77",
   "metadata": {},
   "outputs": [],
   "source": [
    "#reading in the expression matrix\n",
    "th_matrix = pd.read_csv(th, sep = ',', index_col = 0)\n",
    "vglut_matrix = pd.read_csv(vglut, sep = ',', index_col = 0)\n",
    "vacht_matrix = pd.read_csv(vacht, sep = ',', index_col = 0)\n",
    "unch_matrix = pd.read_csv(unch, sep = ',', index_col = 0)\n",
    "apolpp_matrix = pd.read_csv(apolpp, sep = ',', index_col = 0)\n",
    "gat_matrix = pd.read_csv(gat, sep = ',', index_col = 0)\n",
    "vgat_matrix = pd.read_csv(vgat, sep = ',', index_col = 0)\n",
    "jeb_matrix = pd.read_csv(jeb, sep = ',', index_col = 0)\n",
    "ppp1_matrix = pd.read_csv(ppp1, sep = ',', index_col = 0)\n",
    "pcdho2_matrix = pd.read_csv(pcdho2, sep = ',', index_col = 0)\n",
    "egfr_matrix = pd.read_csv(egfr, sep = ',', index_col = 0)\n",
    "stard5_matrix = pd.read_csv(stard5, sep = ',', index_col = 0)\n",
    "calbindin_matrix = pd.read_csv(calbindin, sep = ',', index_col = 0)\n",
    "dscam_matrix = pd.read_csv(dscam, sep = ',', index_col = 0)\n",
    "root_matrix = pd.read_csv(root, sep = ',', index_col = 0)\n",
    "insm2_matrix = pd.read_csv(insm2, sep = ',', index_col = 0)\n",
    "ascl1_matrix = pd.read_csv(ascl1, sep = ',', index_col = 0)\n",
    "neurod_matrix = pd.read_csv(neurod, sep = ',', index_col = 0)\n",
    "ki67_matrix = pd.read_csv(ki67, sep = ',', index_col = 0)"
   ]
  },
  {
   "cell_type": "code",
   "execution_count": 11,
   "id": "c14227da",
   "metadata": {},
   "outputs": [],
   "source": [
    "TH = th_matrix.T[\"LOC115215438\"].astype(\"int\")\n",
    "VGLUT = vglut_matrix.T[\"LOC115220451\"].astype(\"int\") \n",
    "VACHT = vacht_matrix.T[\"LOC115212373\"].astype(\"int\") \n",
    "UNCH = unch_matrix.T[\"LOC118767670\"].astype(\"int\") \n",
    "APOLPP = apolpp_matrix.T[\"LOC115230720\"].astype(\"int\") \n",
    "GAT = gat_matrix.T[\"LOC115231765\"].astype(\"int\") \n",
    "VGAT = vgat_matrix.T[\"LOC115215891\"].astype(\"int\") \n",
    "JEB = jeb_matrix.T[\"LOC115215366\"].astype(\"int\") \n",
    "PPP1 = ppp1_matrix.T[\"LOC118766118\"].astype(\"int\") \n",
    "PCDHO2 = pcdho2_matrix.T[\"LOC115218977\"].astype(\"int\") \n",
    "EGFR = egfr_matrix.T[\"LOC115215570\"].astype(\"int\") \n",
    "STARD5 = stard5_matrix.T[\"LOC115209882\"].astype(\"int\") \n",
    "CALBINDIN = calbindin_matrix.T[\"LOC115213270\"].astype(\"int\") \n",
    "JEB = jeb_matrix.T[\"LOC115215366\"].astype(\"int\") \n",
    "DSCAM = dscam_matrix.T[\"LOC115211706\"].astype(\"int\") \n",
    "ROOT = root_matrix.T[\"LOC115224742\"].astype(\"int\") \n",
    "INSM2 = insm2_matrix.T[\"LOC115217255\"].astype(\"int\") \n",
    "ASCL1 = ascl1_matrix.T[\"LOC115210657\"].astype(\"int\") \n",
    "NEUROD = neurod_matrix.T[\"LOC115214857\"].astype(\"int\") \n",
    "KI67 = ki67_matrix.T[\"LOC115228146\"].astype(\"int\") "
   ]
  },
  {
   "cell_type": "code",
   "execution_count": 12,
   "id": "54bd6b18",
   "metadata": {},
   "outputs": [],
   "source": [
    "#write function to scale expression data\n",
    "scale = lambda X: np.array([(x - min(X)) / (max(X) - min(X)) for x in X])"
   ]
  },
  {
   "cell_type": "code",
   "execution_count": 24,
   "id": "d4186f2f",
   "metadata": {},
   "outputs": [],
   "source": [
    "#scale expression data\n",
    "# th = LOC115215438\n",
    "# vglut = LOC115220451\n",
    "# vacht = LOC115212373\n",
    "# unch = LOC118767670\n",
    "cyan_values = scale(VGAT)\n",
    "magenta_values = scale(GAT)\n",
    "yellow_values = scale(APOLPP)"
   ]
  },
  {
   "cell_type": "code",
   "execution_count": null,
   "id": "fbd165c5",
   "metadata": {},
   "outputs": [],
   "source": [
    "#define the order \n",
    "order = np.argsort(np.array([yellow_values, magenta_values, cyan_values]).T.sum(1))\n"
   ]
  },
  {
   "cell_type": "code",
   "execution_count": null,
   "id": "c9ab2c9d",
   "metadata": {},
   "outputs": [],
   "source": [
    "#write function to convert rgb to cmy\n",
    "def cmy_to_rgb(cmy, k = 0.2):\n",
    "        R = (1 - cmy[:, 0]) * (1 - k)\n",
    "        G = (1 - cmy[:, 1]) * (1 - k)\n",
    "        B = (1 - cmy[:, 2]) * (1 - k)\n",
    "        return np.array([R, G, B]).T"
   ]
  },
  {
   "cell_type": "code",
   "execution_count": 27,
   "id": "e0e33702",
   "metadata": {},
   "outputs": [],
   "source": [
    "tsne = adata_brain.obsm[\"X_tsne\"]"
   ]
  },
  {
   "cell_type": "code",
   "execution_count": 28,
   "id": "98807196",
   "metadata": {},
   "outputs": [],
   "source": [
    "tsne_1 =tsne[:,0]"
   ]
  },
  {
   "cell_type": "code",
   "execution_count": 29,
   "id": "7683eb3f",
   "metadata": {},
   "outputs": [],
   "source": [
    "tsne_2 =tsne[:,1]"
   ]
  },
  {
   "cell_type": "code",
   "execution_count": null,
   "id": "fadd2e65",
   "metadata": {},
   "outputs": [],
   "source": [
    "fig, ax = plt.subplots()\n",
    "ax.scatter(\n",
    "        x = tsne_1[order],\n",
    "        y = tsne_2[order],\n",
    "        c = cmy_to_rgb(np.array([cyan_values[order], magenta_values[order], yellow_values[order]]).T),\n",
    "        s = 0.1)\n",
    "ax.grid(False)\n",
    "plt.axis('off')\n",
    "fig.savefig('cmy_tsne.pdf')"
   ]
  }
 ],
 "metadata": {
  "kernelspec": {
   "display_name": "Python 3",
   "language": "python",
   "name": "python3"
  },
  "language_info": {
   "codemirror_mode": {
    "name": "ipython",
    "version": 3
   },
   "file_extension": ".py",
   "mimetype": "text/x-python",
   "name": "python",
   "nbconvert_exporter": "python",
   "pygments_lexer": "ipython3",
   "version": "3.8.10"
  }
 },
 "nbformat": 4,
 "nbformat_minor": 5
}
